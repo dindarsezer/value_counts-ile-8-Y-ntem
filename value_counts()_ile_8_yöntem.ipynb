{
 "cells": [
  {
   "cell_type": "markdown",
   "id": "acb8f352",
   "metadata": {},
   "source": [
    "## <p style=\"background-color:#9d4f8c; font-family:newtimeroman; color:#FFF9ED; font-size:150%; text-align:center; border-radius:10px 10px;\">Çalışmanızı daha verimli hale getirecek 8 Python Pandas value_counts() püf noktası</p>\n",
    "\n",
    " - Herhangi bir veri projesine başlamadan önce bir adım geriye gitmeli ve veri kümesiyle herhangi bir şey yapmadan önce ona bakmalısınız. Keşifsel Veri Analizi (EDA) veri analizinin herhangi bir parçası kadar önemlidir, çünkü gerçek veri kümeleri çok karmaşıktır ve verilerinizi bilmiyorsanız birçok şey ters gidebilir.\n",
    "\n",
    " - Pandas kütüphanesi bu amaç için çeşitli kullanışlı işlevlerle donatılmıştır ve ``\"value_counts()\"`` bunlardan biridir. Pandas, bir pandas veri çerçevesindeki benzersiz değer sayılarını sıralanmış düzende ``\"value_counts()\"`` içeren bir nesneyi döndürür. Ancak çoğu kullanıcı bu işlevin yalnızca varsayılan parametrelerle kullanılamayacağını gözden kaçırma eğilimindedir. Bu makalede, varsayılan parametreleri değiştirerek Pandasda nasıl daha fazla değer elde edebileceğinizi ve size zaman kazandıracak birkaç ek hileyi göstereceğim.\n",
    " \n",
    "<img src=https://re-thought.com/content/images/size/w2000/2020/05/zac-ong-hPOFScEaZcA-unsplash.jpg width=\"300\" height=\"200\">\n",
    "\n",
    "\n",
    "**🧐 [Makaleye buradan ulasabilirsiniz](https://re-thought.com/pandas-value_counts/)**"
   ]
  },
  {
   "cell_type": "markdown",
   "id": "a332217b",
   "metadata": {},
   "source": [
    "s<dgsg"
   ]
  },
  {
   "cell_type": "markdown",
   "id": "ba46572f",
   "metadata": {},
   "source": [
    "## value_counts() işlevi nedir?\n",
    "\n",
    "İşlev, benzersiz değerlerin sayısını içeren bir Seri ``\"value_counts()\"`` elde etmek için kullanılır. Ortaya çıkan nesne, ilk öğenin en sık görülen öğe olması için azalan sırada olacaktır. NA değerlerini varsayılan olarak hariç tutar.\n",
    "\n",
    "### Syntax\n",
    "\n",
    "``\"df['your_column'].value_counts()\"`` Bu belirtilen sütundaki benzersiz oluşumların (unique değerlerin) sayısını döndürecektir.\n",
    "``\"value_counts()\"`` Dataframe lerde değil, yalnızca Seri lerde çalıştığını unutmamak önemlidir.\n",
    "\n",
    "Sonuç olarak, yalnızca bir parantez ``\"df['your_column']\"`` içerir, iki parantez ``\"df[['your_column']]\"`` içermez.\n"
   ]
  },
  {
   "cell_type": "markdown",
   "id": "7c56a3f8",
   "metadata": {},
   "source": [
    "## Parameters\n",
    " - **normalize (bool, default False)** - True ise döndürülen nesne benzersiz değerlerin göreceli frekanslarını içerecektir.\n",
    " - **sort (bool, default True)** - Frekanslara göre sıralayın.\n",
    " - **ascending (bool, default False)** - Artan düzende sıralayın.\n",
    " - **bins (int, optional)** - Değerleri saymak yerine, bunları yarı açık kutular halinde gruplandırın, ``\"pd.cut\"`` bu kolaylık yalnızca sayısal verilerle çalışır.\n",
    " - **dropna (bool, default True)** - NaN sayılarını dahil etmeyin"
   ]
  },
  {
   "cell_type": "code",
   "execution_count": 2,
   "id": "fb577d20",
   "metadata": {},
   "outputs": [],
   "source": [
    "import pandas as pd"
   ]
  },
  {
   "cell_type": "code",
   "execution_count": 7,
   "id": "b2a81112",
   "metadata": {},
   "outputs": [],
   "source": [
    "df = pd.read_csv('coursea_data.csv')"
   ]
  },
  {
   "cell_type": "code",
   "execution_count": 8,
   "id": "dbb0f860",
   "metadata": {},
   "outputs": [
    {
     "data": {
      "text/html": [
       "<div>\n",
       "<style scoped>\n",
       "    .dataframe tbody tr th:only-of-type {\n",
       "        vertical-align: middle;\n",
       "    }\n",
       "\n",
       "    .dataframe tbody tr th {\n",
       "        vertical-align: top;\n",
       "    }\n",
       "\n",
       "    .dataframe thead th {\n",
       "        text-align: right;\n",
       "    }\n",
       "</style>\n",
       "<table border=\"1\" class=\"dataframe\">\n",
       "  <thead>\n",
       "    <tr style=\"text-align: right;\">\n",
       "      <th></th>\n",
       "      <th>Unnamed: 0</th>\n",
       "      <th>course_title</th>\n",
       "      <th>course_organization</th>\n",
       "      <th>course_Certificate_type</th>\n",
       "      <th>course_rating</th>\n",
       "      <th>course_difficulty</th>\n",
       "      <th>course_students_enrolled</th>\n",
       "    </tr>\n",
       "  </thead>\n",
       "  <tbody>\n",
       "    <tr>\n",
       "      <th>0</th>\n",
       "      <td>134</td>\n",
       "      <td>(ISC)² Systems Security Certified Practitioner...</td>\n",
       "      <td>(ISC)²</td>\n",
       "      <td>SPECIALIZATION</td>\n",
       "      <td>4.7</td>\n",
       "      <td>Beginner</td>\n",
       "      <td>5.3k</td>\n",
       "    </tr>\n",
       "    <tr>\n",
       "      <th>1</th>\n",
       "      <td>743</td>\n",
       "      <td>A Crash Course in Causality:  Inferring Causal...</td>\n",
       "      <td>University of Pennsylvania</td>\n",
       "      <td>COURSE</td>\n",
       "      <td>4.7</td>\n",
       "      <td>Intermediate</td>\n",
       "      <td>17k</td>\n",
       "    </tr>\n",
       "    <tr>\n",
       "      <th>2</th>\n",
       "      <td>874</td>\n",
       "      <td>A Crash Course in Data Science</td>\n",
       "      <td>Johns Hopkins University</td>\n",
       "      <td>COURSE</td>\n",
       "      <td>4.5</td>\n",
       "      <td>Mixed</td>\n",
       "      <td>130k</td>\n",
       "    </tr>\n",
       "    <tr>\n",
       "      <th>3</th>\n",
       "      <td>413</td>\n",
       "      <td>A Law Student's Toolkit</td>\n",
       "      <td>Yale University</td>\n",
       "      <td>COURSE</td>\n",
       "      <td>4.7</td>\n",
       "      <td>Mixed</td>\n",
       "      <td>91k</td>\n",
       "    </tr>\n",
       "    <tr>\n",
       "      <th>4</th>\n",
       "      <td>635</td>\n",
       "      <td>A Life of Happiness and Fulfillment</td>\n",
       "      <td>Indian School of Business</td>\n",
       "      <td>COURSE</td>\n",
       "      <td>4.8</td>\n",
       "      <td>Mixed</td>\n",
       "      <td>320k</td>\n",
       "    </tr>\n",
       "    <tr>\n",
       "      <th>5</th>\n",
       "      <td>661</td>\n",
       "      <td>ADHD: Everyday Strategies for Elementary Students</td>\n",
       "      <td>University at Buffalo</td>\n",
       "      <td>COURSE</td>\n",
       "      <td>4.7</td>\n",
       "      <td>Beginner</td>\n",
       "      <td>39k</td>\n",
       "    </tr>\n",
       "    <tr>\n",
       "      <th>6</th>\n",
       "      <td>54</td>\n",
       "      <td>AI For Everyone</td>\n",
       "      <td>deeplearning.ai</td>\n",
       "      <td>COURSE</td>\n",
       "      <td>4.8</td>\n",
       "      <td>Beginner</td>\n",
       "      <td>350k</td>\n",
       "    </tr>\n",
       "    <tr>\n",
       "      <th>7</th>\n",
       "      <td>488</td>\n",
       "      <td>AI For Medical Treatment</td>\n",
       "      <td>deeplearning.ai</td>\n",
       "      <td>COURSE</td>\n",
       "      <td>4.8</td>\n",
       "      <td>Intermediate</td>\n",
       "      <td>2.4k</td>\n",
       "    </tr>\n",
       "    <tr>\n",
       "      <th>8</th>\n",
       "      <td>58</td>\n",
       "      <td>AI Foundations for Everyone</td>\n",
       "      <td>IBM</td>\n",
       "      <td>SPECIALIZATION</td>\n",
       "      <td>4.7</td>\n",
       "      <td>Beginner</td>\n",
       "      <td>61k</td>\n",
       "    </tr>\n",
       "    <tr>\n",
       "      <th>9</th>\n",
       "      <td>129</td>\n",
       "      <td>AI for Medical Diagnosis</td>\n",
       "      <td>deeplearning.ai</td>\n",
       "      <td>COURSE</td>\n",
       "      <td>4.7</td>\n",
       "      <td>Intermediate</td>\n",
       "      <td>12k</td>\n",
       "    </tr>\n",
       "  </tbody>\n",
       "</table>\n",
       "</div>"
      ],
      "text/plain": [
       "   Unnamed: 0                                       course_title  \\\n",
       "0         134  (ISC)² Systems Security Certified Practitioner...   \n",
       "1         743  A Crash Course in Causality:  Inferring Causal...   \n",
       "2         874                     A Crash Course in Data Science   \n",
       "3         413                            A Law Student's Toolkit   \n",
       "4         635                A Life of Happiness and Fulfillment   \n",
       "5         661  ADHD: Everyday Strategies for Elementary Students   \n",
       "6          54                                    AI For Everyone   \n",
       "7         488                           AI For Medical Treatment   \n",
       "8          58                        AI Foundations for Everyone   \n",
       "9         129                           AI for Medical Diagnosis   \n",
       "\n",
       "          course_organization course_Certificate_type  course_rating  \\\n",
       "0                      (ISC)²          SPECIALIZATION            4.7   \n",
       "1  University of Pennsylvania                  COURSE            4.7   \n",
       "2    Johns Hopkins University                  COURSE            4.5   \n",
       "3             Yale University                  COURSE            4.7   \n",
       "4   Indian School of Business                  COURSE            4.8   \n",
       "5       University at Buffalo                  COURSE            4.7   \n",
       "6             deeplearning.ai                  COURSE            4.8   \n",
       "7             deeplearning.ai                  COURSE            4.8   \n",
       "8                         IBM          SPECIALIZATION            4.7   \n",
       "9             deeplearning.ai                  COURSE            4.7   \n",
       "\n",
       "  course_difficulty course_students_enrolled  \n",
       "0          Beginner                     5.3k  \n",
       "1      Intermediate                      17k  \n",
       "2             Mixed                     130k  \n",
       "3             Mixed                      91k  \n",
       "4             Mixed                     320k  \n",
       "5          Beginner                      39k  \n",
       "6          Beginner                     350k  \n",
       "7      Intermediate                     2.4k  \n",
       "8          Beginner                      61k  \n",
       "9      Intermediate                      12k  "
      ]
     },
     "execution_count": 8,
     "metadata": {},
     "output_type": "execute_result"
    }
   ],
   "source": [
    "df.head(10)"
   ]
  },
  {
   "cell_type": "code",
   "execution_count": 9,
   "id": "2357e330",
   "metadata": {},
   "outputs": [
    {
     "name": "stdout",
     "output_type": "stream",
     "text": [
      "<class 'pandas.core.frame.DataFrame'>\n",
      "RangeIndex: 891 entries, 0 to 890\n",
      "Data columns (total 7 columns):\n",
      " #   Column                    Non-Null Count  Dtype  \n",
      "---  ------                    --------------  -----  \n",
      " 0   Unnamed: 0                891 non-null    int64  \n",
      " 1   course_title              891 non-null    object \n",
      " 2   course_organization       891 non-null    object \n",
      " 3   course_Certificate_type   891 non-null    object \n",
      " 4   course_rating             891 non-null    float64\n",
      " 5   course_difficulty         891 non-null    object \n",
      " 6   course_students_enrolled  891 non-null    object \n",
      "dtypes: float64(1), int64(1), object(5)\n",
      "memory usage: 48.9+ KB\n"
     ]
    }
   ],
   "source": [
    "df.info()"
   ]
  },
  {
   "cell_type": "markdown",
   "id": "690946cd",
   "metadata": {},
   "source": [
    "#### Bu bize veri setimizde 891 kaydımızın olduğunu ve herhangi bir NaN değerimizin olmadığını söyler."
   ]
  },
  {
   "cell_type": "markdown",
   "id": "607850e0",
   "metadata": {},
   "source": [
    "## 1. value_counts() with default parameters\n",
    "\n",
    "Veri çerçevemizden \"course_difficulty\" sütununa ilişkin sayıları alacağız."
   ]
  },
  {
   "cell_type": "code",
   "execution_count": 13,
   "id": "36b1a085",
   "metadata": {},
   "outputs": [
    {
     "data": {
      "text/plain": [
       "course_difficulty\n",
       "Beginner        487\n",
       "Intermediate    198\n",
       "Mixed           187\n",
       "Advanced         19\n",
       "Name: count, dtype: int64"
      ]
     },
     "execution_count": 13,
     "metadata": {},
     "output_type": "execute_result"
    }
   ],
   "source": [
    "# course_difficulty sütunu için tüm unique değerlerin sayısı\n",
    "\n",
    "df['course_difficulty'].value_counts()"
   ]
  },
  {
   "cell_type": "markdown",
   "id": "adb6263c",
   "metadata": {},
   "source": [
    "Bu fonksiyon ``\"value_counts()\"`` verilen dizindeki tüm benzersiz(unique) değerlerin sayısını herhangi bir boş değer olmadan azalan sırada döndürür. Maksimum kursların Beginner seviyesinde olduğunu, ardından sırası ile Intermediate, Mixed ve Advanced seviyesinde olduğunu hızlı bir şekilde görebiliriz."
   ]
  },
  {
   "cell_type": "markdown",
   "id": "4817a8bc",
   "metadata": {},
   "source": [
    "## 2. value_counts() in ascending order\n",
    " ``\"value_counts()\"`` Tarafından döndürülen seriler default olarak azalan sıradadır. ``\"ascending\"`` Parametreyi ``\"True\"`` olarak ayarlayarak durumu tersine çevirebiliriz."
   ]
  },
  {
   "cell_type": "code",
   "execution_count": 14,
   "id": "aa4c9631",
   "metadata": {},
   "outputs": [
    {
     "data": {
      "text/plain": [
       "course_difficulty\n",
       "Advanced         19\n",
       "Mixed           187\n",
       "Intermediate    198\n",
       "Beginner        487\n",
       "Name: count, dtype: int64"
      ]
     },
     "execution_count": 14,
     "metadata": {},
     "output_type": "execute_result"
    }
   ],
   "source": [
    "# course_difficulty sütunu için tüm unique değerlerin artan sırada sayısı\n",
    "\n",
    "df['course_difficulty'].value_counts(ascending=True)"
   ]
  },
  {
   "cell_type": "markdown",
   "id": "ffdd8872",
   "metadata": {},
   "source": [
    "## 3. value_counts() sorted alphabetically\n",
    "\n",
    "Bazı durumlarda ``\"value_counts()\"``ile döndürülenleri alfabetik sırada görüntülememiz gerekebilir.\n",
    "\n",
    "Bu ``\"value_counts()\"``'tan sonra ``\"sort_index(ascending=True)\"``sıralama indeksi eklenerek kolayca yapılabilir."
   ]
  },
  {
   "cell_type": "code",
   "execution_count": 16,
   "id": "42e7e52d",
   "metadata": {},
   "outputs": [
    {
     "data": {
      "text/plain": [
       "course_difficulty\n",
       "Advanced         19\n",
       "Beginner        487\n",
       "Intermediate    198\n",
       "Mixed           187\n",
       "Name: count, dtype: int64"
      ]
     },
     "execution_count": 16,
     "metadata": {},
     "output_type": "execute_result"
    }
   ],
   "source": [
    "# value_counts() alfabetik olarak sıralanır.\n",
    "df['course_difficulty'].value_counts().sort_index(ascending=True)"
   ]
  },
  {
   "cell_type": "code",
   "execution_count": 17,
   "id": "c084ba03",
   "metadata": {},
   "outputs": [
    {
     "data": {
      "text/plain": [
       "course_difficulty\n",
       "Mixed           187\n",
       "Intermediate    198\n",
       "Beginner        487\n",
       "Advanced         19\n",
       "Name: count, dtype: int64"
      ]
     },
     "execution_count": 17,
     "metadata": {},
     "output_type": "execute_result"
    }
   ],
   "source": [
    "# value_counts() ters alfabetik olarak sıralanır.\n",
    "df['course_difficulty'].value_counts().sort_index(ascending=False)"
   ]
  },
  {
   "cell_type": "markdown",
   "id": "6ca574bd",
   "metadata": {},
   "source": [
    "## 4. Pandas value_counts(): sort by value, then alphabetically\n"
   ]
  },
  {
   "cell_type": "code",
   "execution_count": 23,
   "id": "b005b867",
   "metadata": {},
   "outputs": [],
   "source": [
    "# Bu örnek için biraz farklı bir veri çerçevesi kullanalım\n",
    "df_fruit = pd.DataFrame({\n",
    "    'fruit':\n",
    "        ['sharon fruit']*5 + ['apples']*5 + ['bananas']*3 + \n",
    "        ['nectarines']*3 + ['carrots']*3 + ['apricots'] + ['mango']*2})"
   ]
  },
  {
   "cell_type": "code",
   "execution_count": 24,
   "id": "e707ed5f",
   "metadata": {},
   "outputs": [
    {
     "data": {
      "text/html": [
       "<div>\n",
       "<style scoped>\n",
       "    .dataframe tbody tr th:only-of-type {\n",
       "        vertical-align: middle;\n",
       "    }\n",
       "\n",
       "    .dataframe tbody tr th {\n",
       "        vertical-align: top;\n",
       "    }\n",
       "\n",
       "    .dataframe thead th {\n",
       "        text-align: right;\n",
       "    }\n",
       "</style>\n",
       "<table border=\"1\" class=\"dataframe\">\n",
       "  <thead>\n",
       "    <tr style=\"text-align: right;\">\n",
       "      <th></th>\n",
       "      <th>fruit</th>\n",
       "    </tr>\n",
       "  </thead>\n",
       "  <tbody>\n",
       "    <tr>\n",
       "      <th>0</th>\n",
       "      <td>sharon fruit</td>\n",
       "    </tr>\n",
       "    <tr>\n",
       "      <th>1</th>\n",
       "      <td>sharon fruit</td>\n",
       "    </tr>\n",
       "    <tr>\n",
       "      <th>2</th>\n",
       "      <td>sharon fruit</td>\n",
       "    </tr>\n",
       "    <tr>\n",
       "      <th>3</th>\n",
       "      <td>sharon fruit</td>\n",
       "    </tr>\n",
       "    <tr>\n",
       "      <th>4</th>\n",
       "      <td>sharon fruit</td>\n",
       "    </tr>\n",
       "    <tr>\n",
       "      <th>5</th>\n",
       "      <td>apples</td>\n",
       "    </tr>\n",
       "    <tr>\n",
       "      <th>6</th>\n",
       "      <td>apples</td>\n",
       "    </tr>\n",
       "    <tr>\n",
       "      <th>7</th>\n",
       "      <td>apples</td>\n",
       "    </tr>\n",
       "    <tr>\n",
       "      <th>8</th>\n",
       "      <td>apples</td>\n",
       "    </tr>\n",
       "    <tr>\n",
       "      <th>9</th>\n",
       "      <td>apples</td>\n",
       "    </tr>\n",
       "    <tr>\n",
       "      <th>10</th>\n",
       "      <td>bananas</td>\n",
       "    </tr>\n",
       "    <tr>\n",
       "      <th>11</th>\n",
       "      <td>bananas</td>\n",
       "    </tr>\n",
       "    <tr>\n",
       "      <th>12</th>\n",
       "      <td>bananas</td>\n",
       "    </tr>\n",
       "    <tr>\n",
       "      <th>13</th>\n",
       "      <td>nectarines</td>\n",
       "    </tr>\n",
       "    <tr>\n",
       "      <th>14</th>\n",
       "      <td>nectarines</td>\n",
       "    </tr>\n",
       "    <tr>\n",
       "      <th>15</th>\n",
       "      <td>nectarines</td>\n",
       "    </tr>\n",
       "    <tr>\n",
       "      <th>16</th>\n",
       "      <td>carrots</td>\n",
       "    </tr>\n",
       "    <tr>\n",
       "      <th>17</th>\n",
       "      <td>carrots</td>\n",
       "    </tr>\n",
       "    <tr>\n",
       "      <th>18</th>\n",
       "      <td>carrots</td>\n",
       "    </tr>\n",
       "    <tr>\n",
       "      <th>19</th>\n",
       "      <td>apricots</td>\n",
       "    </tr>\n",
       "    <tr>\n",
       "      <th>20</th>\n",
       "      <td>mango</td>\n",
       "    </tr>\n",
       "    <tr>\n",
       "      <th>21</th>\n",
       "      <td>mango</td>\n",
       "    </tr>\n",
       "  </tbody>\n",
       "</table>\n",
       "</div>"
      ],
      "text/plain": [
       "           fruit\n",
       "0   sharon fruit\n",
       "1   sharon fruit\n",
       "2   sharon fruit\n",
       "3   sharon fruit\n",
       "4   sharon fruit\n",
       "5         apples\n",
       "6         apples\n",
       "7         apples\n",
       "8         apples\n",
       "9         apples\n",
       "10       bananas\n",
       "11       bananas\n",
       "12       bananas\n",
       "13    nectarines\n",
       "14    nectarines\n",
       "15    nectarines\n",
       "16       carrots\n",
       "17       carrots\n",
       "18       carrots\n",
       "19      apricots\n",
       "20         mango\n",
       "21         mango"
      ]
     },
     "execution_count": 24,
     "metadata": {},
     "output_type": "execute_result"
    }
   ],
   "source": [
    "df_fruit"
   ]
  },
  {
   "cell_type": "code",
   "execution_count": null,
   "id": "bbe4a7de",
   "metadata": {},
   "outputs": [],
   "source": [
    " sort_index(ascending=False)Bu, value_counts() işlevini ve ile birleştirerek yapılabilir sort_values(ascending=False)."
   ]
  },
  {
   "cell_type": "code",
   "execution_count": 25,
   "id": "91dc0d3c",
   "metadata": {},
   "outputs": [
    {
     "data": {
      "text/plain": [
       "fruit\n",
       "sharon fruit    5\n",
       "apples          5\n",
       "nectarines      3\n",
       "carrots         3\n",
       "bananas         3\n",
       "mango           2\n",
       "apricots        1\n",
       "Name: count, dtype: int64"
      ]
     },
     "execution_count": 25,
     "metadata": {},
     "output_type": "execute_result"
    }
   ],
   "source": [
    "# Burada çıktının önce değer sayılarına göre, sonra da meyve adına göre alfabetik olarak sıralanmasını istiyoruz.\n",
    "\n",
    "df_fruit['fruit'].value_counts().sort_index(ascending=False).sort_values(ascending=False)"
   ]
  },
  {
   "cell_type": "markdown",
   "id": "da8d7775",
   "metadata": {},
   "source": [
    "###### Önce değer sayılarına göre ``\"sort_index(ascending=False)\"`` sonra da meyve adına göre alfabetik ``\"sort_values(ascending=False)\"``"
   ]
  },
  {
   "cell_type": "markdown",
   "id": "9d5ed209",
   "metadata": {},
   "source": [
    "## 5. value_counts() persentage counts or relative frequencies of the unique values\n",
    "Bazen % almak normal sayıdan daha iyidir. ``\"normalize=True\"`` ayarlandığında döndürülen nesne benzersiz(unique) değerlerin frekanslarını içerir.\n",
    "\n",
    "Default olarak ``\"normalize=False\"`` dur."
   ]
  },
  {
   "cell_type": "code",
   "execution_count": 26,
   "id": "7808d2e4",
   "metadata": {},
   "outputs": [
    {
     "data": {
      "text/plain": [
       "course_difficulty\n",
       "Beginner        0.546577\n",
       "Intermediate    0.222222\n",
       "Mixed           0.209877\n",
       "Advanced        0.021324\n",
       "Name: proportion, dtype: float64"
      ]
     },
     "execution_count": 26,
     "metadata": {},
     "output_type": "execute_result"
    }
   ],
   "source": [
    "# value_counts percentage view\n",
    "df['course_difficulty'].value_counts(normalize=True)"
   ]
  },
  {
   "cell_type": "markdown",
   "id": "7ad97eec",
   "metadata": {},
   "source": [
    "## 6. value_counts() to bin continuous data into discrete intervals\n",
    "Bu genellikle yeterince kullanılmayan harika bir hile.  ``\"bin\"``Parametre yardımıyla sürekli verileri ayrık aralıklara bölmek için kullanılabilir. Bu seçenek yalnızca sayısal verilerle çalışır. ``\"pd.cut.\"``Fonksiyonuna benzer."
   ]
  },
  {
   "cell_type": "code",
   "execution_count": 27,
   "id": "fc10f459",
   "metadata": {},
   "outputs": [
    {
     "data": {
      "text/plain": [
       "course_rating\n",
       "4.8    256\n",
       "4.7    251\n",
       "4.6    168\n",
       "4.5     80\n",
       "4.9     68\n",
       "4.4     34\n",
       "4.3     15\n",
       "4.2     10\n",
       "5.0      2\n",
       "4.0      2\n",
       "3.9      2\n",
       "3.3      1\n",
       "4.1      1\n",
       "3.7      1\n",
       "Name: count, dtype: int64"
      ]
     },
     "execution_count": 27,
     "metadata": {},
     "output_type": "execute_result"
    }
   ],
   "source": [
    "# applying value_counts with default parameters \n",
    "df['course_rating'].value_counts()"
   ]
  },
  {
   "cell_type": "code",
   "execution_count": 28,
   "id": "8f68f473",
   "metadata": {},
   "outputs": [
    {
     "data": {
      "text/plain": [
       "course_rating\n",
       "(4.575, 5.0]      745\n",
       "(4.15, 4.575]     139\n",
       "(3.725, 4.15]       5\n",
       "(3.297, 3.725]      2\n",
       "Name: count, dtype: int64"
      ]
     },
     "execution_count": 28,
     "metadata": {},
     "output_type": "execute_result"
    }
   ],
   "source": [
    "# Sütunun sayımlarını 4 bölmeye gruplayalım.\n",
    "# applying value_counts on a numerical column \n",
    "# with the bin parameter\n",
    "df['course_rating'].value_counts(bins=4)"
   ]
  },
  {
   "cell_type": "markdown",
   "id": "f2bc682c",
   "metadata": {},
   "source": [
    "######  ``\"bin\"``, iletilen fikrin anlaşılmasını kolaylaştırır. Toplam nüfus içinde çoğu kişinin derslere 4,5'un üzerinde puan verdiğini rahatlıkla görebiliriz. Derecelendirmenin 4,15'in altında olduğu yalnızca birkaç aykırı değer dışında (4,15'ten düşük derecelendirilmiş yalnızca 7 kurs)."
   ]
  },
  {
   "cell_type": "markdown",
   "id": "28c9b86c",
   "metadata": {},
   "source": [
    "## 7. value_counts() displaying the NaN values\n",
    "Varsayılan olarak boş değerlerin sayısı sonuçtan hariç tutulur.  Ancak, ``\"dropna\"``parametreyi ``\"False\"``olarak ayarlayarak aynı şey kolayca görüntülenebilir. Veri setimizde herhangi bir null değer bulunmadığından dropna parametresinin ayarlanması bir fark yaratmayacaktır. Ancak bu, boş değerlere sahip başka bir veri kümesinde faydalı olabilir; bu nedenle bunu aklınızda bulundurun."
   ]
  },
  {
   "cell_type": "code",
   "execution_count": 31,
   "id": "99b650ea",
   "metadata": {},
   "outputs": [],
   "source": [
    "#df['your_column'].value_counts(dropna=False)"
   ]
  },
  {
   "cell_type": "markdown",
   "id": "9dbad005",
   "metadata": {},
   "source": [
    "## 8. value_counts() as dataframe\n",
    "``\"value_counts()\"`` bir data frame i değil seriyi döndürür. Sayımlarınızın bir dataframe olarak dönmesini istiyorsanız, bunu ``\".value_counts().to_frame()\"``"
   ]
  },
  {
   "cell_type": "code",
   "execution_count": 32,
   "id": "718369fc",
   "metadata": {},
   "outputs": [
    {
     "data": {
      "text/html": [
       "<div>\n",
       "<style scoped>\n",
       "    .dataframe tbody tr th:only-of-type {\n",
       "        vertical-align: middle;\n",
       "    }\n",
       "\n",
       "    .dataframe tbody tr th {\n",
       "        vertical-align: top;\n",
       "    }\n",
       "\n",
       "    .dataframe thead th {\n",
       "        text-align: right;\n",
       "    }\n",
       "</style>\n",
       "<table border=\"1\" class=\"dataframe\">\n",
       "  <thead>\n",
       "    <tr style=\"text-align: right;\">\n",
       "      <th></th>\n",
       "      <th>count</th>\n",
       "    </tr>\n",
       "    <tr>\n",
       "      <th>course_difficulty</th>\n",
       "      <th></th>\n",
       "    </tr>\n",
       "  </thead>\n",
       "  <tbody>\n",
       "    <tr>\n",
       "      <th>Beginner</th>\n",
       "      <td>487</td>\n",
       "    </tr>\n",
       "    <tr>\n",
       "      <th>Intermediate</th>\n",
       "      <td>198</td>\n",
       "    </tr>\n",
       "    <tr>\n",
       "      <th>Mixed</th>\n",
       "      <td>187</td>\n",
       "    </tr>\n",
       "    <tr>\n",
       "      <th>Advanced</th>\n",
       "      <td>19</td>\n",
       "    </tr>\n",
       "  </tbody>\n",
       "</table>\n",
       "</div>"
      ],
      "text/plain": [
       "                   count\n",
       "course_difficulty       \n",
       "Beginner             487\n",
       "Intermediate         198\n",
       "Mixed                187\n",
       "Advanced              19"
      ]
     },
     "execution_count": 32,
     "metadata": {},
     "output_type": "execute_result"
    }
   ],
   "source": [
    "# value_counts as dataframe\n",
    "df['course_difficulty'].value_counts().to_frame()"
   ]
  },
  {
   "cell_type": "code",
   "execution_count": null,
   "id": "3fe8a2f0",
   "metadata": {},
   "outputs": [],
   "source": []
  },
  {
   "cell_type": "code",
   "execution_count": null,
   "id": "f428ecca",
   "metadata": {},
   "outputs": [],
   "source": []
  }
 ],
 "metadata": {
  "kernelspec": {
   "display_name": "Python 3 (ipykernel)",
   "language": "python",
   "name": "python3"
  },
  "language_info": {
   "codemirror_mode": {
    "name": "ipython",
    "version": 3
   },
   "file_extension": ".py",
   "mimetype": "text/x-python",
   "name": "python",
   "nbconvert_exporter": "python",
   "pygments_lexer": "ipython3",
   "version": "3.11.5"
  }
 },
 "nbformat": 4,
 "nbformat_minor": 5
}
